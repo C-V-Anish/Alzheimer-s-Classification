{
 "cells": [
  {
   "cell_type": "markdown",
   "metadata": {
    "papermill": {
     "duration": 0.015167,
     "end_time": "2023-05-29T13:55:27.311151",
     "exception": false,
     "start_time": "2023-05-29T13:55:27.295984",
     "status": "completed"
    },
    "tags": []
   },
   "source": [
    "### **Alzheimer's Classification - NASNetLarge**"
   ]
  },
  {
   "cell_type": "code",
   "execution_count": 1,
   "metadata": {
    "execution": {
     "iopub.execute_input": "2023-05-29T13:55:27.344423Z",
     "iopub.status.busy": "2023-05-29T13:55:27.343631Z",
     "iopub.status.idle": "2023-05-29T13:55:35.551463Z",
     "shell.execute_reply": "2023-05-29T13:55:35.550756Z",
     "shell.execute_reply.started": "2023-05-29T09:46:07.886431Z"
    },
    "papermill": {
     "duration": 8.226736,
     "end_time": "2023-05-29T13:55:35.551724",
     "exception": false,
     "start_time": "2023-05-29T13:55:27.324988",
     "status": "completed"
    },
    "tags": []
   },
   "outputs": [
    {
     "name": "stdout",
     "output_type": "stream",
     "text": [
      "Requirement already satisfied: pydot in /opt/conda/lib/python3.7/site-packages (1.4.2)\r\n",
      "Requirement already satisfied: pyparsing>=2.1.4 in /opt/conda/lib/python3.7/site-packages (from pydot) (2.4.7)\r\n",
      "\u001b[33mWARNING: You are using pip version 21.0.1; however, version 23.1.2 is available.\r\n",
      "You should consider upgrading via the '/opt/conda/bin/python -m pip install --upgrade pip' command.\u001b[0m\r\n",
      "Note: you may need to restart the kernel to use updated packages.\n"
     ]
    }
   ],
   "source": [
    "pip install pydot"
   ]
  },
  {
   "cell_type": "code",
   "execution_count": 2,
   "metadata": {
    "execution": {
     "iopub.execute_input": "2023-05-29T13:55:35.591431Z",
     "iopub.status.busy": "2023-05-29T13:55:35.587677Z",
     "iopub.status.idle": "2023-05-29T13:55:42.284752Z",
     "shell.execute_reply": "2023-05-29T13:55:42.284039Z",
     "shell.execute_reply.started": "2023-05-29T09:46:14.711401Z"
    },
    "papermill": {
     "duration": 6.71703,
     "end_time": "2023-05-29T13:55:42.284920",
     "exception": false,
     "start_time": "2023-05-29T13:55:35.567890",
     "status": "completed"
    },
    "tags": []
   },
   "outputs": [
    {
     "name": "stdout",
     "output_type": "stream",
     "text": [
      "Requirement already satisfied: graphviz in /opt/conda/lib/python3.7/site-packages (0.8.4)\r\n",
      "\u001b[33mWARNING: You are using pip version 21.0.1; however, version 23.1.2 is available.\r\n",
      "You should consider upgrading via the '/opt/conda/bin/python -m pip install --upgrade pip' command.\u001b[0m\r\n",
      "Note: you may need to restart the kernel to use updated packages.\n"
     ]
    }
   ],
   "source": [
    "pip install graphviz"
   ]
  },
  {
   "cell_type": "code",
   "execution_count": 3,
   "metadata": {
    "execution": {
     "iopub.execute_input": "2023-05-29T13:55:42.326587Z",
     "iopub.status.busy": "2023-05-29T13:55:42.325635Z",
     "iopub.status.idle": "2023-05-29T13:55:49.560475Z",
     "shell.execute_reply": "2023-05-29T13:55:49.559584Z",
     "shell.execute_reply.started": "2023-05-29T09:46:19.869042Z"
    },
    "papermill": {
     "duration": 7.260201,
     "end_time": "2023-05-29T13:55:49.560653",
     "exception": false,
     "start_time": "2023-05-29T13:55:42.300452",
     "status": "completed"
    },
    "tags": []
   },
   "outputs": [],
   "source": [
    "import numpy as np\n",
    "import pandas as pd\n",
    "import matplotlib.pyplot as plt\n",
    "import seaborn as sn\n",
    "import skimage.io\n",
    "import os \n",
    "import tqdm\n",
    "import glob\n",
    "import tensorflow \n",
    "\n",
    "from tqdm import tqdm\n",
    "from sklearn.utils import shuffle\n",
    "from sklearn import metrics\n",
    "from sklearn.metrics import confusion_matrix, classification_report\n",
    "from sklearn.model_selection import train_test_split\n",
    "\n",
    "from skimage.io import imread, imshow\n",
    "from skimage.transform import resize\n",
    "from skimage.color import grey2rgb\n",
    "\n",
    "import tensorflow as tf\n",
    "from tensorflow.keras.preprocessing.image import ImageDataGenerator\n",
    "from tensorflow.keras.preprocessing import image_dataset_from_directory\n",
    "from tensorflow.keras.models import Sequential\n",
    "from tensorflow.keras.layers import InputLayer, BatchNormalization, Dropout, Flatten, Dense, Activation, MaxPool2D, Conv2D\n",
    "from tensorflow.keras.callbacks import EarlyStopping, ModelCheckpoint\n",
    "from tensorflow.keras.applications.resnet50 import ResNet50\n",
    "from tensorflow.keras.utils import to_categorical\n",
    "from keras import optimizers\n",
    "from tensorflow.keras.optimizers import Adam\n",
    "from keras.applications.nasnet import NASNetLarge, NASNetMobile\n",
    "from keras.callbacks import Callback,ModelCheckpoint,ReduceLROnPlateau\n",
    "from keras.models import Sequential,load_model\n",
    "from keras.layers import Dense, Dropout\n",
    "from keras.wrappers.scikit_learn import KerasClassifier\n",
    "import keras.backend as K\n",
    "\n",
    "#import tensorflow_addons as tfa\n",
    "#from tensorflow.keras.metrics import Metric\n",
    "#from tensorflow_addons.utils.types import AcceptableDTypes, FloatTensorLike\n",
    "from typeguard import typechecked\n",
    "from typing import Optional"
   ]
  },
  {
   "cell_type": "code",
   "execution_count": 4,
   "metadata": {
    "execution": {
     "iopub.execute_input": "2023-05-29T13:55:49.597563Z",
     "iopub.status.busy": "2023-05-29T13:55:49.596855Z",
     "iopub.status.idle": "2023-05-29T13:55:49.600405Z",
     "shell.execute_reply": "2023-05-29T13:55:49.599671Z",
     "shell.execute_reply.started": "2023-05-29T09:46:26.397641Z"
    },
    "papermill": {
     "duration": 0.02407,
     "end_time": "2023-05-29T13:55:49.600562",
     "exception": false,
     "start_time": "2023-05-29T13:55:49.576492",
     "status": "completed"
    },
    "tags": []
   },
   "outputs": [],
   "source": [
    "AUTOTUNE = tf.data.experimental.AUTOTUNE"
   ]
  },
  {
   "cell_type": "code",
   "execution_count": 5,
   "metadata": {
    "execution": {
     "iopub.execute_input": "2023-05-29T13:55:49.639562Z",
     "iopub.status.busy": "2023-05-29T13:55:49.638808Z",
     "iopub.status.idle": "2023-05-29T13:55:49.641927Z",
     "shell.execute_reply": "2023-05-29T13:55:49.641380Z",
     "shell.execute_reply.started": "2023-05-29T09:46:26.406236Z"
    },
    "papermill": {
     "duration": 0.025946,
     "end_time": "2023-05-29T13:55:49.642090",
     "exception": false,
     "start_time": "2023-05-29T13:55:49.616144",
     "status": "completed"
    },
    "tags": []
   },
   "outputs": [],
   "source": [
    "train_datagen = ImageDataGenerator(rescale = 1./255,\n",
    "                                   validation_split = 0.2,\n",
    "                                  \n",
    "        rotation_range=5,\n",
    "        width_shift_range=0.2,\n",
    "        height_shift_range=0.2,\n",
    "        shear_range=0.2,\n",
    "        #zoom_range=0.2,\n",
    "        horizontal_flip=True,\n",
    "        vertical_flip=True,\n",
    "        fill_mode='nearest')\n",
    "\n",
    "valid_datagen = ImageDataGenerator(rescale = 1./255,\n",
    "                                  validation_split = 0.2)\n",
    "\n",
    "test_datagen  = ImageDataGenerator(rescale = 1./255\n",
    "                                  )"
   ]
  },
  {
   "cell_type": "code",
   "execution_count": 6,
   "metadata": {
    "execution": {
     "iopub.execute_input": "2023-05-29T13:55:49.678982Z",
     "iopub.status.busy": "2023-05-29T13:55:49.678237Z",
     "iopub.status.idle": "2023-05-29T13:55:56.510325Z",
     "shell.execute_reply": "2023-05-29T13:55:56.510916Z",
     "shell.execute_reply.started": "2023-05-29T09:46:26.415745Z"
    },
    "papermill": {
     "duration": 6.853382,
     "end_time": "2023-05-29T13:55:56.511108",
     "exception": false,
     "start_time": "2023-05-29T13:55:49.657726",
     "status": "completed"
    },
    "tags": []
   },
   "outputs": [
    {
     "name": "stdout",
     "output_type": "stream",
     "text": [
      "Found 4098 images belonging to 4 classes.\n"
     ]
    }
   ],
   "source": [
    "train_dataset  = train_datagen.flow_from_directory(directory = '../input/dataset-alzheimer/Alzheimer_s Dataset/train',\n",
    "                                                   target_size = (331,331),\n",
    "                                                   class_mode = 'categorical',\n",
    "                                                   subset = 'training',\n",
    "                                                   batch_size = 64)"
   ]
  },
  {
   "cell_type": "code",
   "execution_count": 7,
   "metadata": {
    "execution": {
     "iopub.execute_input": "2023-05-29T13:55:56.546907Z",
     "iopub.status.busy": "2023-05-29T13:55:56.546220Z",
     "iopub.status.idle": "2023-05-29T13:55:57.183290Z",
     "shell.execute_reply": "2023-05-29T13:55:57.182640Z",
     "shell.execute_reply.started": "2023-05-29T09:46:31.248366Z"
    },
    "papermill": {
     "duration": 0.656655,
     "end_time": "2023-05-29T13:55:57.183455",
     "exception": false,
     "start_time": "2023-05-29T13:55:56.526800",
     "status": "completed"
    },
    "tags": []
   },
   "outputs": [
    {
     "name": "stdout",
     "output_type": "stream",
     "text": [
      "Found 1023 images belonging to 4 classes.\n"
     ]
    }
   ],
   "source": [
    "valid_dataset = valid_datagen.flow_from_directory(directory = '../input/dataset-alzheimer/Alzheimer_s Dataset/train',\n",
    "                                                  target_size = (331,331),\n",
    "                                                  class_mode = 'categorical',\n",
    "                                                  subset = 'validation',\n",
    "                                                  batch_size = 64)"
   ]
  },
  {
   "cell_type": "code",
   "execution_count": 8,
   "metadata": {
    "execution": {
     "iopub.execute_input": "2023-05-29T13:55:57.220444Z",
     "iopub.status.busy": "2023-05-29T13:55:57.219759Z",
     "iopub.status.idle": "2023-05-29T13:55:57.638332Z",
     "shell.execute_reply": "2023-05-29T13:55:57.637583Z",
     "shell.execute_reply.started": "2023-05-29T09:46:31.676438Z"
    },
    "papermill": {
     "duration": 0.438829,
     "end_time": "2023-05-29T13:55:57.638497",
     "exception": false,
     "start_time": "2023-05-29T13:55:57.199668",
     "status": "completed"
    },
    "tags": []
   },
   "outputs": [
    {
     "name": "stdout",
     "output_type": "stream",
     "text": [
      "Found 1279 images belonging to 4 classes.\n"
     ]
    }
   ],
   "source": [
    "test_dataset = test_datagen.flow_from_directory(directory = '../input/dataset-alzheimer/Alzheimer_s Dataset/test',\n",
    "                                                  target_size = (331,331),\n",
    "                                                  class_mode = 'categorical',\n",
    "                                                  batch_size = 64)"
   ]
  },
  {
   "cell_type": "code",
   "execution_count": 9,
   "metadata": {
    "execution": {
     "iopub.execute_input": "2023-05-29T13:55:57.679865Z",
     "iopub.status.busy": "2023-05-29T13:55:57.679074Z",
     "iopub.status.idle": "2023-05-29T13:56:23.152850Z",
     "shell.execute_reply": "2023-05-29T13:56:23.151935Z",
     "shell.execute_reply.started": "2023-05-29T09:46:31.889329Z"
    },
    "papermill": {
     "duration": 25.498017,
     "end_time": "2023-05-29T13:56:23.153037",
     "exception": false,
     "start_time": "2023-05-29T13:55:57.655020",
     "status": "completed"
    },
    "tags": []
   },
   "outputs": [
    {
     "name": "stdout",
     "output_type": "stream",
     "text": [
      "Downloading data from https://storage.googleapis.com/tensorflow/keras-applications/nasnet/NASNet-large-no-top.h5\n",
      "343613440/343610240 [==============================] - 16s 0us/step\n"
     ]
    }
   ],
   "source": [
    "base_model = tf.keras.applications.NASNetLarge(input_shape=(331,331,3),include_top=False,weights=\"imagenet\")"
   ]
  },
  {
   "cell_type": "code",
   "execution_count": 10,
   "metadata": {
    "execution": {
     "iopub.execute_input": "2023-05-29T13:56:23.332018Z",
     "iopub.status.busy": "2023-05-29T13:56:23.331017Z",
     "iopub.status.idle": "2023-05-29T13:56:23.360606Z",
     "shell.execute_reply": "2023-05-29T13:56:23.359902Z",
     "shell.execute_reply.started": "2023-05-29T09:46:41.052738Z"
    },
    "papermill": {
     "duration": 0.125389,
     "end_time": "2023-05-29T13:56:23.360791",
     "exception": false,
     "start_time": "2023-05-29T13:56:23.235402",
     "status": "completed"
    },
    "tags": []
   },
   "outputs": [],
   "source": [
    "# Freezing Layers\n",
    "\n",
    "for layer in base_model.layers[:-3]:\n",
    "    layer.trainable=False"
   ]
  },
  {
   "cell_type": "code",
   "execution_count": 11,
   "metadata": {
    "execution": {
     "iopub.execute_input": "2023-05-29T13:56:23.533675Z",
     "iopub.status.busy": "2023-05-29T13:56:23.532665Z",
     "iopub.status.idle": "2023-05-29T13:56:26.363083Z",
     "shell.execute_reply": "2023-05-29T13:56:26.362375Z",
     "shell.execute_reply.started": "2023-05-29T09:46:41.087301Z"
    },
    "papermill": {
     "duration": 2.916771,
     "end_time": "2023-05-29T13:56:26.363242",
     "exception": false,
     "start_time": "2023-05-29T13:56:23.446471",
     "status": "completed"
    },
    "tags": []
   },
   "outputs": [],
   "source": [
    "# Building Model\n",
    "\n",
    "model=Sequential()\n",
    "model.add(base_model)\n",
    "model.add(Dropout(0.5))\n",
    "model.add(Flatten())\n",
    "model.add(BatchNormalization())\n",
    "model.add(Dense(32,kernel_initializer='he_uniform'))\n",
    "model.add(BatchNormalization())\n",
    "model.add(Activation('relu'))\n",
    "model.add(Dropout(0.5))\n",
    "model.add(Dense(32,kernel_initializer='he_uniform'))\n",
    "model.add(BatchNormalization())\n",
    "model.add(Activation('relu'))\n",
    "model.add(Dropout(0.5))\n",
    "model.add(Dense(32,kernel_initializer='he_uniform'))\n",
    "model.add(BatchNormalization())\n",
    "model.add(Activation('relu'))\n",
    "model.add(Dense(4,activation='softmax'))"
   ]
  },
  {
   "cell_type": "code",
   "execution_count": 12,
   "metadata": {
    "execution": {
     "iopub.execute_input": "2023-05-29T13:56:26.540929Z",
     "iopub.status.busy": "2023-05-29T13:56:26.540182Z",
     "iopub.status.idle": "2023-05-29T13:56:26.589905Z",
     "shell.execute_reply": "2023-05-29T13:56:26.589174Z",
     "shell.execute_reply.started": "2023-05-29T09:46:43.152724Z"
    },
    "papermill": {
     "duration": 0.145585,
     "end_time": "2023-05-29T13:56:26.590087",
     "exception": false,
     "start_time": "2023-05-29T13:56:26.444502",
     "status": "completed"
    },
    "tags": []
   },
   "outputs": [
    {
     "name": "stdout",
     "output_type": "stream",
     "text": [
      "Model: \"sequential\"\n",
      "_________________________________________________________________\n",
      "Layer (type)                 Output Shape              Param #   \n",
      "=================================================================\n",
      "NASNet (Functional)          (None, 11, 11, 4032)      84916818  \n",
      "_________________________________________________________________\n",
      "dropout (Dropout)            (None, 11, 11, 4032)      0         \n",
      "_________________________________________________________________\n",
      "flatten (Flatten)            (None, 487872)            0         \n",
      "_________________________________________________________________\n",
      "batch_normalization (BatchNo (None, 487872)            1951488   \n",
      "_________________________________________________________________\n",
      "dense (Dense)                (None, 32)                15611936  \n",
      "_________________________________________________________________\n",
      "batch_normalization_1 (Batch (None, 32)                128       \n",
      "_________________________________________________________________\n",
      "activation_260 (Activation)  (None, 32)                0         \n",
      "_________________________________________________________________\n",
      "dropout_1 (Dropout)          (None, 32)                0         \n",
      "_________________________________________________________________\n",
      "dense_1 (Dense)              (None, 32)                1056      \n",
      "_________________________________________________________________\n",
      "batch_normalization_2 (Batch (None, 32)                128       \n",
      "_________________________________________________________________\n",
      "activation_261 (Activation)  (None, 32)                0         \n",
      "_________________________________________________________________\n",
      "dropout_2 (Dropout)          (None, 32)                0         \n",
      "_________________________________________________________________\n",
      "dense_2 (Dense)              (None, 32)                1056      \n",
      "_________________________________________________________________\n",
      "batch_normalization_3 (Batch (None, 32)                128       \n",
      "_________________________________________________________________\n",
      "activation_262 (Activation)  (None, 32)                0         \n",
      "_________________________________________________________________\n",
      "dense_3 (Dense)              (None, 4)                 132       \n",
      "=================================================================\n",
      "Total params: 102,482,870\n",
      "Trainable params: 16,590,116\n",
      "Non-trainable params: 85,892,754\n",
      "_________________________________________________________________\n"
     ]
    }
   ],
   "source": [
    "# Model Summary\n",
    "\n",
    "model.summary()"
   ]
  },
  {
   "cell_type": "code",
   "execution_count": 13,
   "metadata": {
    "execution": {
     "iopub.execute_input": "2023-05-29T13:56:26.761704Z",
     "iopub.status.busy": "2023-05-29T13:56:26.760648Z",
     "iopub.status.idle": "2023-05-29T13:56:26.763912Z",
     "shell.execute_reply": "2023-05-29T13:56:26.763333Z",
     "shell.execute_reply.started": "2023-05-29T09:46:43.210135Z"
    },
    "papermill": {
     "duration": 0.091338,
     "end_time": "2023-05-29T13:56:26.764099",
     "exception": false,
     "start_time": "2023-05-29T13:56:26.672761",
     "status": "completed"
    },
    "tags": []
   },
   "outputs": [],
   "source": [
    "def f1_score(y_true, y_pred): #taken from old keras source code\n",
    "    true_positives = K.sum(K.round(K.clip(y_true * y_pred, 0, 1)))\n",
    "    possible_positives = K.sum(K.round(K.clip(y_true, 0, 1)))\n",
    "    predicted_positives = K.sum(K.round(K.clip(y_pred, 0, 1)))\n",
    "    precision = true_positives / (predicted_positives + K.epsilon())\n",
    "    recall = true_positives / (possible_positives + K.epsilon())\n",
    "    f1_val = 2*(precision*recall)/(precision+recall+K.epsilon())\n",
    "    return f1_val"
   ]
  },
  {
   "cell_type": "code",
   "execution_count": 14,
   "metadata": {
    "execution": {
     "iopub.execute_input": "2023-05-29T13:56:26.954354Z",
     "iopub.status.busy": "2023-05-29T13:56:26.945408Z",
     "iopub.status.idle": "2023-05-29T13:56:26.977816Z",
     "shell.execute_reply": "2023-05-29T13:56:26.977001Z",
     "shell.execute_reply.started": "2023-05-29T09:46:43.220677Z"
    },
    "papermill": {
     "duration": 0.13137,
     "end_time": "2023-05-29T13:56:26.978018",
     "exception": false,
     "start_time": "2023-05-29T13:56:26.846648",
     "status": "completed"
    },
    "tags": []
   },
   "outputs": [],
   "source": [
    "METRICS = [\n",
    "      tf.keras.metrics.BinaryAccuracy(name='accuracy'),\n",
    "      tf.keras.metrics.Precision(name='precision'),\n",
    "      tf.keras.metrics.Recall(name='recall'),  \n",
    "      tf.keras.metrics.AUC(name='auc'),\n",
    "        f1_score,\n",
    "]"
   ]
  },
  {
   "cell_type": "code",
   "execution_count": 15,
   "metadata": {
    "execution": {
     "iopub.execute_input": "2023-05-29T13:56:27.178633Z",
     "iopub.status.busy": "2023-05-29T13:56:27.177658Z",
     "iopub.status.idle": "2023-05-29T13:56:27.182882Z",
     "shell.execute_reply": "2023-05-29T13:56:27.183398Z",
     "shell.execute_reply.started": "2023-05-29T09:46:43.247473Z"
    },
    "papermill": {
     "duration": 0.090153,
     "end_time": "2023-05-29T13:56:27.183606",
     "exception": false,
     "start_time": "2023-05-29T13:56:27.093453",
     "status": "completed"
    },
    "tags": []
   },
   "outputs": [],
   "source": [
    "lrd = ReduceLROnPlateau(monitor = 'val_loss',patience = 20,verbose = 1,factor = 0.50, min_lr = 1e-10)\n",
    "\n",
    "mcp = ModelCheckpoint('model.h5')\n",
    "\n",
    "es = EarlyStopping(verbose=1, patience=20)"
   ]
  },
  {
   "cell_type": "code",
   "execution_count": 16,
   "metadata": {
    "execution": {
     "iopub.execute_input": "2023-05-29T13:56:27.353532Z",
     "iopub.status.busy": "2023-05-29T13:56:27.352582Z",
     "iopub.status.idle": "2023-05-29T13:56:27.380314Z",
     "shell.execute_reply": "2023-05-29T13:56:27.380887Z",
     "shell.execute_reply.started": "2023-05-29T09:46:43.254303Z"
    },
    "papermill": {
     "duration": 0.113271,
     "end_time": "2023-05-29T13:56:27.381082",
     "exception": false,
     "start_time": "2023-05-29T13:56:27.267811",
     "status": "completed"
    },
    "tags": []
   },
   "outputs": [],
   "source": [
    "model.compile(optimizer='Adam', loss='categorical_crossentropy',metrics=METRICS)"
   ]
  },
  {
   "cell_type": "code",
   "execution_count": 17,
   "metadata": {
    "execution": {
     "iopub.execute_input": "2023-05-29T13:56:27.546200Z",
     "iopub.status.busy": "2023-05-29T13:56:27.545193Z",
     "iopub.status.idle": "2023-05-29T19:45:20.379988Z",
     "shell.execute_reply": "2023-05-29T19:45:20.381217Z",
     "shell.execute_reply.started": "2023-05-29T09:46:43.286015Z"
    },
    "papermill": {
     "duration": 20932.921026,
     "end_time": "2023-05-29T19:45:20.382381",
     "exception": false,
     "start_time": "2023-05-29T13:56:27.461355",
     "status": "completed"
    },
    "tags": []
   },
   "outputs": [
    {
     "name": "stdout",
     "output_type": "stream",
     "text": [
      "Epoch 1/5\n",
      "65/65 [==============================] - 4132s 63s/step - loss: 1.4279 - accuracy: 0.7279 - precision: 0.3390 - recall: 0.0952 - auc: 0.6017 - f1_score: 0.1508 - val_loss: 1.1200 - val_accuracy: 0.7505 - val_precision: 0.7500 - val_recall: 0.0029 - val_auc: 0.7779 - val_f1_score: 0.0058\n",
      "Epoch 2/5\n",
      "65/65 [==============================] - 4126s 64s/step - loss: 1.1403 - accuracy: 0.7527 - precision: 0.5117 - recall: 0.2283 - auc: 0.7567 - f1_score: 0.3152 - val_loss: 1.1510 - val_accuracy: 0.7500 - val_precision: 0.0000e+00 - val_recall: 0.0000e+00 - val_auc: 0.7534 - val_f1_score: 0.0000e+00\n",
      "Epoch 3/5\n",
      "65/65 [==============================] - 4095s 63s/step - loss: 1.0774 - accuracy: 0.7579 - precision: 0.5320 - recall: 0.2610 - auc: 0.7806 - f1_score: 0.3534 - val_loss: 1.1169 - val_accuracy: 0.7512 - val_precision: 0.6923 - val_recall: 0.0088 - val_auc: 0.7716 - val_f1_score: 0.0171\n",
      "Epoch 4/5\n",
      "65/65 [==============================] - 4257s 66s/step - loss: 1.0520 - accuracy: 0.7624 - precision: 0.5469 - recall: 0.2883 - auc: 0.7898 - f1_score: 0.3776 - val_loss: 1.0903 - val_accuracy: 0.7549 - val_precision: 0.6136 - val_recall: 0.0528 - val_auc: 0.7638 - val_f1_score: 0.0957\n",
      "Epoch 5/5\n",
      "65/65 [==============================] - 4307s 66s/step - loss: 1.0376 - accuracy: 0.7632 - precision: 0.5496 - recall: 0.2936 - auc: 0.7946 - f1_score: 0.3746 - val_loss: 1.0662 - val_accuracy: 0.7561 - val_precision: 0.5723 - val_recall: 0.0968 - val_auc: 0.7757 - val_f1_score: 0.1644\n"
     ]
    }
   ],
   "source": [
    "history=model.fit(train_dataset,validation_data=valid_dataset,epochs = 5,verbose = 1,callbacks=[lrd,mcp,es])"
   ]
  },
  {
   "cell_type": "code",
   "execution_count": 18,
   "metadata": {
    "execution": {
     "iopub.execute_input": "2023-05-29T19:45:20.774471Z",
     "iopub.status.busy": "2023-05-29T19:45:20.768418Z",
     "iopub.status.idle": "2023-05-29T19:45:21.770571Z",
     "shell.execute_reply": "2023-05-29T19:45:21.771217Z",
     "shell.execute_reply.started": "2023-05-29T13:50:12.848710Z"
    },
    "papermill": {
     "duration": 1.201593,
     "end_time": "2023-05-29T19:45:21.771418",
     "exception": false,
     "start_time": "2023-05-29T19:45:20.569825",
     "status": "completed"
    },
    "tags": []
   },
   "outputs": [
    {
     "data": {
      "image/png": "[encoded data removed]",
      "text/plain": [
       "<Figure size 1440x360 with 5 Axes>"
      ]
     },
     "metadata": {
      "needs_background": "light"
     },
     "output_type": "display_data"
    }
   ],
   "source": [
    "#%% PLOTTING RESULTS (Train vs Validation FOLDER 1)\n",
    "\n",
    "def Train_Val_Plot(acc,val_acc,loss,val_loss,auc,val_auc,precision,val_precision,f1,val_f1):\n",
    "    \n",
    "    fig, (ax1, ax2,ax3,ax4,ax5) = plt.subplots(1,5, figsize= (20,5))\n",
    "    fig.suptitle(\" MODEL'S METRICS VISUALIZATION \")\n",
    "\n",
    "    ax1.plot(range(1, len(acc) + 1), acc)\n",
    "    ax1.plot(range(1, len(val_acc) + 1), val_acc)\n",
    "    ax1.set_title('History of Accuracy')\n",
    "    ax1.set_xlabel('Epochs')\n",
    "    ax1.set_ylabel('Accuracy')\n",
    "    ax1.legend(['training', 'validation'])\n",
    "\n",
    "\n",
    "    ax2.plot(range(1, len(loss) + 1), loss)\n",
    "    ax2.plot(range(1, len(val_loss) + 1), val_loss)\n",
    "    ax2.set_title('History of Loss')\n",
    "    ax2.set_xlabel('Epochs')\n",
    "    ax2.set_ylabel('Loss')\n",
    "    ax2.legend(['training', 'validation'])\n",
    "    \n",
    "    ax3.plot(range(1, len(auc) + 1), auc)\n",
    "    ax3.plot(range(1, len(val_auc) + 1), val_auc)\n",
    "    ax3.set_title('History of AUC')\n",
    "    ax3.set_xlabel('Epochs')\n",
    "    ax3.set_ylabel('AUC')\n",
    "    ax3.legend(['training', 'validation'])\n",
    "    \n",
    "    ax4.plot(range(1, len(precision) + 1), precision)\n",
    "    ax4.plot(range(1, len(val_precision) + 1), val_precision)\n",
    "    ax4.set_title('History of Precision')\n",
    "    ax4.set_xlabel('Epochs')\n",
    "    ax4.set_ylabel('Precision')\n",
    "    ax4.legend(['training', 'validation'])\n",
    "    \n",
    "    ax5.plot(range(1, len(f1) + 1), f1)\n",
    "    ax5.plot(range(1, len(val_f1) + 1), val_f1)\n",
    "    ax5.set_title('History of F1-score')\n",
    "    ax5.set_xlabel('Epochs')\n",
    "    ax5.set_ylabel('F1 score')\n",
    "    ax5.legend(['training', 'validation'])\n",
    "\n",
    "\n",
    "    plt.show()\n",
    "    \n",
    "\n",
    "Train_Val_Plot(history.history['accuracy'],history.history['val_accuracy'],\n",
    "               history.history['loss'],history.history['val_loss'],\n",
    "               history.history['auc'],history.history['val_auc'],\n",
    "               history.history['precision'],history.history['val_precision'],\n",
    "               history.history['f1_score'],history.history['val_f1_score']\n",
    "              )"
   ]
  }
 ],
 "metadata": {
  "kernelspec": {
   "display_name": "Python 3",
   "language": "python",
   "name": "python3"
  },
  "language_info": {
   "codemirror_mode": {
    "name": "ipython",
    "version": 3
   },
   "file_extension": ".py",
   "mimetype": "text/x-python",
   "name": "python",
   "nbconvert_exporter": "python",
   "pygments_lexer": "ipython3",
   "version": "3.7.9"
  },
  "papermill": {
   "default_parameters": {},
   "duration": 21004.579482,
   "end_time": "2023-05-29T19:45:26.317946",
   "environment_variables": {},
   "exception": null,
   "input_path": "__notebook__.ipynb",
   "output_path": "__notebook__.ipynb",
   "parameters": {},
   "start_time": "2023-05-29T13:55:21.738464",
   "version": "2.2.2"
  }
 },
 "nbformat": 4,
 "nbformat_minor": 4
}
